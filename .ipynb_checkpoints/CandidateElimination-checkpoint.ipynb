{
 "cells": [
  {
   "cell_type": "code",
   "execution_count": 6,
   "id": "03cb2fed-c479-4d76-8c81-96788925bb9b",
   "metadata": {},
   "outputs": [
    {
     "name": "stdout",
     "output_type": "stream",
     "text": [
      "\n",
      "Final Specific Hypothesis: ['sunny', 'warm', 'high', 'strong', '?', '?']\n",
      "Final General Hypothesis: [['sunny', '?', '?', '?', '?', '?'], ['?', 'warm', '?', '?', '?', '?']]\n"
     ]
    }
   ],
   "source": [
    "import pandas as pd\n",
    "import numpy as np\n",
    "\n",
    "def learn(concepts, target):\n",
    "    s_h = list(concepts[0])\n",
    "    g_h = [['?' for _ in range(len(s_h))] for _ in range(len(s_h))]\n",
    "\n",
    "    for i, concept in enumerate(concepts):\n",
    "        # print(f\"\\nStep {i+1}: {concept}, Target: {target[i]}\")\n",
    "        if target[i] == 1:\n",
    "            for x in range(len(s_h)):\n",
    "                if concept[x] != s_h[x]:\n",
    "                    s_h[x] = '?'\n",
    "                    g_h[x][x] = '?'\n",
    "        else:\n",
    "            for x in range(len(s_h)):\n",
    "                if concept[x] != s_h[x]:\n",
    "                    g_h[x][x] = s_h[x]\n",
    "\n",
    "        # print(\"Updated Specific Hypothesis:\", s_h)\n",
    "        # print(\"Updated General Hypothesis:\", g_h)\n",
    "\n",
    "    return s_h, [h for h in g_h if any(elem != '?' for elem in h)]\n",
    "\n",
    "data = pd.read_csv('candidate.csv')\n",
    "concepts = np.array(data.iloc[:, :-1])\n",
    "target = np.array(data.iloc[:, -1])\n",
    "\n",
    "specific_hypothesis, general_hypothesis = learn(concepts, target)\n",
    "print(\"\\nFinal Specific Hypothesis:\", specific_hypothesis)\n",
    "print(\"Final General Hypothesis:\", general_hypothesis)\n"
   ]
  },
  {
   "cell_type": "code",
   "execution_count": null,
   "id": "e675688e-79e0-4e8e-a9d8-3fd0bd1fdbca",
   "metadata": {},
   "outputs": [],
   "source": [
    "import pandas as pd\n",
    "import numpy as np\n",
    "def learn(concepts,target):\n",
    "    s_h=list(concepts[0])\n",
    "    g_h=[['?' for _ in range(len(s_h))] for _ in range(len(s_h))]\n",
    "    for i,concept in enumerate(concepts):\n",
    "        if target[i]==1:\n",
    "            for x in range(len(s_h)):\n",
    "                if concept[x]!=s_h[x]:\n",
    "                    s_h[x]='?'\n",
    "                    g_h[x][x]='?'\n",
    "        else:\n",
    "            for x in range(len(s_h)):\n",
    "                if concept[x]!=s_h[x]:\n",
    "                    g_h[x][x]=s_h[x]\n",
    "    return s_h,[h for h in g_h if any(elem!='?' for elem in h)]\n",
    "data=pd.read_csv('candidate.csv')\n",
    "concepts=np.array(data.iloc[:,:-1])\n",
    "target=np.array(data.iloc[:,-1])\n",
    "spec_h,gen_h=learn(concepts,target)\n",
    "print(spec_h)\n",
    "print(gen_h)"
   ]
  }
 ],
 "metadata": {
  "kernelspec": {
   "display_name": "Python 3 (ipykernel)",
   "language": "python",
   "name": "python3"
  },
  "language_info": {
   "codemirror_mode": {
    "name": "ipython",
    "version": 3
   },
   "file_extension": ".py",
   "mimetype": "text/x-python",
   "name": "python",
   "nbconvert_exporter": "python",
   "pygments_lexer": "ipython3",
   "version": "3.10.12"
  }
 },
 "nbformat": 4,
 "nbformat_minor": 5
}
