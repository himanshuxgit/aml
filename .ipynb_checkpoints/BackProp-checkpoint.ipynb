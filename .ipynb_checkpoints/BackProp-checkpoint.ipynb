{
 "cells": [
  {
   "cell_type": "code",
   "execution_count": 7,
   "id": "fb3ad59e-e0ac-4359-bd2f-cf959751c2ae",
   "metadata": {},
   "outputs": [],
   "source": [
    "# import numpy as np\n",
    "\n",
    "# # Neural network parameters\n",
    "# input_neurons, hidden_neurons, output_neurons = 2, 3, 1\n",
    "# epoch, lr = 7000, 0.1\n",
    "\n",
    "# # Random initialization\n",
    "# wh, bh, wout, bout = np.random.uniform(size=(input_neurons, hidden_neurons)), np.random.uniform(size=(1, hidden_neurons)), np.random.uniform(size=(hidden_neurons, output_neurons)), np.random.uniform(size=(1, output_neurons))\n",
    "\n",
    "# # Input data\n",
    "# X, y = np.array([[2, 9], [1, 5], [3, 6]], dtype=float), np.array([[1], [0], [1]], dtype=float)\n",
    "\n",
    "# # Training loop\n",
    "# for _ in range(epoch):\n",
    "#     hlayer_act = 1 / (1 + np.exp(-(X / np.amax(X, axis=0) @ wh + bh)))\n",
    "#     output = 1 / (1 + np.exp(-(hlayer_act @ wout + bout)))\n",
    "\n",
    "#     d_output = (y - output) * output * (1 - output)\n",
    "#     d_hiddenlayer = d_output @ wout.T * hlayer_act * (1 - hlayer_act)\n",
    "\n",
    "#     wout += hlayer_act.T @ d_output * lr\n",
    "#     wh += (X / np.amax(X, axis=0)).T @ d_hiddenlayer * lr\n",
    "\n",
    "# # Results\n",
    "# print(\"Input:\\n\", X / np.amax(X, axis=0))\n",
    "# print(\"Actual Output:\\n\", y)\n",
    "# print(\"Predicted Output:\\n\", output)\n"
   ]
  },
  {
   "cell_type": "code",
   "execution_count": 31,
   "id": "19af25cf-116b-4dbb-b01d-834aa3f673fb",
   "metadata": {},
   "outputs": [
    {
     "ename": "ValueError",
     "evalue": "shapes (3,2) and (1,3) not aligned: 2 (dim 1) != 1 (dim 0)",
     "output_type": "error",
     "traceback": [
      "\u001b[0;31m---------------------------------------------------------------------------\u001b[0m",
      "\u001b[0;31mValueError\u001b[0m                                Traceback (most recent call last)",
      "Cell \u001b[0;32mIn[31], line 14\u001b[0m\n\u001b[1;32m     11\u001b[0m bout \u001b[38;5;241m=\u001b[39m np\u001b[38;5;241m.\u001b[39mrandom\u001b[38;5;241m.\u001b[39muniform(size\u001b[38;5;241m=\u001b[39m(\u001b[38;5;241m1\u001b[39m, \u001b[38;5;241m1\u001b[39m))\n\u001b[1;32m     13\u001b[0m \u001b[38;5;28;01mfor\u001b[39;00m _ \u001b[38;5;129;01min\u001b[39;00m \u001b[38;5;28mrange\u001b[39m(\u001b[38;5;241m5000\u001b[39m):\n\u001b[0;32m---> 14\u001b[0m     hidden_layer \u001b[38;5;241m=\u001b[39m \u001b[38;5;241m1\u001b[39m \u001b[38;5;241m/\u001b[39m (\u001b[38;5;241m1\u001b[39m \u001b[38;5;241m+\u001b[39m np\u001b[38;5;241m.\u001b[39mexp(\u001b[38;5;241m-\u001b[39m(\u001b[43mnp\u001b[49m\u001b[38;5;241;43m.\u001b[39;49m\u001b[43mdot\u001b[49m\u001b[43m(\u001b[49m\u001b[43mX\u001b[49m\u001b[43m,\u001b[49m\u001b[43m \u001b[49m\u001b[43mwh\u001b[49m\u001b[43m)\u001b[49m \u001b[38;5;241m+\u001b[39m bh)))\n\u001b[1;32m     15\u001b[0m     output \u001b[38;5;241m=\u001b[39m \u001b[38;5;241m1\u001b[39m \u001b[38;5;241m/\u001b[39m (\u001b[38;5;241m1\u001b[39m \u001b[38;5;241m+\u001b[39m np\u001b[38;5;241m.\u001b[39mexp(\u001b[38;5;241m-\u001b[39m(np\u001b[38;5;241m.\u001b[39mdot(hidden_layer, wout) \u001b[38;5;241m+\u001b[39m bout)))\n\u001b[1;32m     17\u001b[0m     \u001b[38;5;66;03m# EO, outgrad = y - output, output * (1 - output)\u001b[39;00m\n\u001b[1;32m     18\u001b[0m     \u001b[38;5;66;03m# EH = EO.dot(wout.T) * hidden_layer * (1 - hidden_layer)\u001b[39;00m\n\u001b[1;32m     19\u001b[0m \n\u001b[0;32m   (...)\u001b[0m\n\u001b[1;32m     22\u001b[0m     \u001b[38;5;66;03m# bh += np.sum(EH, axis=0, keepdims=True) * 0.1\u001b[39;00m\n\u001b[1;32m     23\u001b[0m     \u001b[38;5;66;03m# bout += np.sum(EO * outgrad, axis=0, keepdims=True) * 0.1\u001b[39;00m\n",
      "\u001b[0;31mValueError\u001b[0m: shapes (3,2) and (1,3) not aligned: 2 (dim 1) != 1 (dim 0)"
     ]
    }
   ],
   "source": [
    "import numpy as np\n",
    "\n",
    "X = np.array(([2, 9], [1, 5], [3, 6]), dtype=float)\n",
    "y = np.array(([92], [86], [89]), dtype=float)\n",
    "X /= np.amax(X, axis=0)\n",
    "y /= 100\n",
    "\n",
    "wh = np.random.uniform(size=(X.shape[1], 3))\n",
    "bh = np.random.uniform(size=(1, 3))\n",
    "wout = np.random.uniform(size=(3, 1))\n",
    "bout = np.random.uniform(size=(1, 1))\n",
    "\n",
    "for _ in range(5000):\n",
    "    hidden_layer = 1 / (1 + np.exp(-(np.dot(X, wh) + bh)))\n",
    "    output = 1 / (1 + np.exp(-(np.dot(hidden_layer, wout) + bout)))\n",
    "\n",
    "    # EO, outgrad = y - output, output * (1 - output)\n",
    "    # EH = EO.dot(wout.T) * hidden_layer * (1 - hidden_layer)\n",
    "\n",
    "    # wout += hidden_layer.T.dot(EO * outgrad) * 0.1\n",
    "    # wh += X.T.dot(EH) * 0.1\n",
    "    # bh += np.sum(EH, axis=0, keepdims=True) * 0.1\n",
    "    # bout += np.sum(EO * outgrad, axis=0, keepdims=True) * 0.1\n",
    "\n",
    "print(\"Input:\\n\", X / np.amax(X, axis=0))\n",
    "print(\"Actual Output:\\n\", y)\n",
    "print(\"Predicted Output:\", output)\n"
   ]
  },
  {
   "cell_type": "code",
   "execution_count": 32,
   "id": "c4141ef7-0c7c-40f8-88d8-ce67c8911ec7",
   "metadata": {},
   "outputs": [
    {
     "name": "stdout",
     "output_type": "stream",
     "text": [
      "[[0.66666667 1.        ]\n",
      " [0.33333333 0.55555556]\n",
      " [1.         0.66666667]]\n",
      "[[0.92]\n",
      " [0.86]\n",
      " [0.89]]\n",
      "[[0.84739971]\n",
      " [0.8353932 ]\n",
      " [0.8458875 ]]\n"
     ]
    }
   ],
   "source": [
    "import numpy as np\n",
    "x=np.array(([2,9],[1,5],[3,6]),dtype=float)\n",
    "y=np.array(([92],[86],[89]),dtype=float)\n",
    "x/=np.amax(x,axis=0)\n",
    "y/=100\n",
    "wh=np.random.uniform(size=(x.shape[1],3))\n",
    "bh=np.random.uniform(size=(1,3))\n",
    "wout=np.random.uniform(size=(3,1))\n",
    "bout=np.random.uniform(size=(1,1))\n",
    "for _ in range(5000):\n",
    "    hid=1/(1+np.exp(-(np.dot(x,wh)+bh)))\n",
    "    op=1/(1+np.exp(-(np.dot(hid,wout)+bout)))\n",
    "print(x/np.amax(x,axis=0))\n",
    "print(y)\n",
    "print(op)"
   ]
  },
  {
   "cell_type": "code",
   "execution_count": null,
   "id": "038a1124-be85-4157-bfbf-f7d942b45062",
   "metadata": {},
   "outputs": [],
   "source": []
  },
  {
   "cell_type": "code",
   "execution_count": null,
   "id": "c49d4152-3392-44e5-82c9-d16af24775f3",
   "metadata": {},
   "outputs": [],
   "source": []
  },
  {
   "cell_type": "code",
   "execution_count": null,
   "id": "49978cbf-14ae-4688-a9a2-7360f6f514a0",
   "metadata": {},
   "outputs": [],
   "source": []
  }
 ],
 "metadata": {
  "kernelspec": {
   "display_name": "Python 3 (ipykernel)",
   "language": "python",
   "name": "python3"
  },
  "language_info": {
   "codemirror_mode": {
    "name": "ipython",
    "version": 3
   },
   "file_extension": ".py",
   "mimetype": "text/x-python",
   "name": "python",
   "nbconvert_exporter": "python",
   "pygments_lexer": "ipython3",
   "version": "3.10.12"
  }
 },
 "nbformat": 4,
 "nbformat_minor": 5
}
