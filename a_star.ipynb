{
 "cells": [
  {
   "cell_type": "code",
   "execution_count": 6,
   "id": "fef5974c-d99e-47af-b2f7-cd2b8a6e7fd0",
   "metadata": {},
   "outputs": [
    {
     "name": "stdout",
     "output_type": "stream",
     "text": [
      "Path found: ['A', 'F', 'G', 'I', 'J']\n"
     ]
    }
   ],
   "source": [
    "import heapq\n",
    "\n",
    "def a_star(start, goal, graph, h):\n",
    "    open_set, came_from, g = [(0, start)], {start: None}, {start: 0}\n",
    "    while open_set:\n",
    "        _, current = heapq.heappop(open_set)\n",
    "        if current == goal:\n",
    "            return [start] if current == start else a_star(start, came_from[current], graph, h) + [current]\n",
    "        for neighbor, weight in graph.get(current, []):\n",
    "            tentative_g = g[current] + weight\n",
    "            if tentative_g < g.get(neighbor, float('inf')):\n",
    "                came_from[neighbor], g[neighbor] = current, tentative_g\n",
    "                heapq.heappush(open_set, (tentative_g + h[neighbor], neighbor))\n",
    "\n",
    "# graph = {'A': [('B', 6), ('F', 3)], 'B': [('C', 3), ('D', 2)], 'C': [('D', 1), ('E', 5)], 'D': [('C', 1), ('E', 8)], 'E': [('I', 5), ('J', 5)], 'F': [('G', 1), ('H', 7)], 'G': [('I', 3)], 'H': [('I', 2)], 'I': [('E', 5), ('J', 3)]}\n",
    "# heuristic = {'A': 10, 'B': 8, 'C': 5, 'D': 7, 'E': 3, 'F': 6, 'G': 5, 'H': 3, 'I': 1, 'J': 0}\n",
    "graph = {\n",
    "    'A': [('B', 6), ('F', 3)],\n",
    "    'B': [('C', 3), ('D', 2)],\n",
    "    'C': [('D', 1), ('E', 5)],\n",
    "    'D': [('C', 1), ('E', 8)],\n",
    "    'E': [('I', 5), ('J', 5)],\n",
    "    'F': [('G', 1), ('H', 7)],\n",
    "    'G': [('I', 3)],\n",
    "    'H': [('I', 2)],\n",
    "    'I': [('E', 5), ('J', 3)]\n",
    "}\n",
    "\n",
    "heuristic = {\n",
    "    'A': 10, 'B': 8, 'C': 5, 'D': 7, 'E': 3,\n",
    "    'F': 6, 'G': 5, 'H': 3, 'I': 1, 'J': 0\n",
    "}\n",
    "path = a_star('A', 'J', graph, heuristic)\n",
    "print(\"Path found:\", path)"
   ]
  },
  {
   "cell_type": "code",
   "execution_count": null,
   "id": "b6b03615-4bb8-48fc-ab75-b57ebef4a016",
   "metadata": {},
   "outputs": [],
   "source": []
  }
 ],
 "metadata": {
  "kernelspec": {
   "display_name": "Python 3 (ipykernel)",
   "language": "python",
   "name": "python3"
  },
  "language_info": {
   "codemirror_mode": {
    "name": "ipython",
    "version": 3
   },
   "file_extension": ".py",
   "mimetype": "text/x-python",
   "name": "python",
   "nbconvert_exporter": "python",
   "pygments_lexer": "ipython3",
   "version": "3.10.12"
  }
 },
 "nbformat": 4,
 "nbformat_minor": 5
}
